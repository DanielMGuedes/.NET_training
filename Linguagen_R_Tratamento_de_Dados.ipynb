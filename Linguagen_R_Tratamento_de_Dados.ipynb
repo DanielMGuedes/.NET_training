{
  "nbformat": 4,
  "nbformat_minor": 0,
  "metadata": {
    "colab": {
      "name": "Linguagen_R_Tratamento_de_Dados.ipynb",
      "provenance": [],
      "collapsed_sections": [],
      "toc_visible": true,
      "authorship_tag": "ABX9TyMOIbplJ8JG416v0nQ4MLxz",
      "include_colab_link": true
    },
    "kernelspec": {
      "name": "ir",
      "display_name": "R"
    }
  },
  "cells": [
    {
      "cell_type": "markdown",
      "metadata": {
        "id": "view-in-github",
        "colab_type": "text"
      },
      "source": [
        "<a href=\"https://colab.research.google.com/github/DanielMGuedes/.NET_training/blob/main/Linguagen_R_Tratamento_de_Dados.ipynb\" target=\"_parent\"><img src=\"https://colab.research.google.com/assets/colab-badge.svg\" alt=\"Open In Colab\"/></a>"
      ]
    },
    {
      "cell_type": "markdown",
      "metadata": {
        "id": "4k5IUNVyZZ3T"
      },
      "source": [
        "# **1. Preparação do ambiente de análise de dados em R**\n",
        "\n",
        "## **1.1 Instalando o R**\n",
        "\n",
        "Primeiramente, vamos relembrar o conceito de linguagem R:\n",
        "\n",
        "A linguagem R é uma linguagem de programação usada para análise estatística e produção de gráficos. Trata-se de um software gratuito com código aberto e com uma linguagem acessível, o que facilita a sua usabilidade.\n",
        "\n",
        "Para podermos trabalhar com o R, é necessário fazer o download do programa no computador. Portanto, vamos abrir o navegador e, na barra de endereço, digitar o link: https://cran.r-project.org/. Em seguida, devemos escolher a versão de acordo com o sistema operacional utilizado e executar o arquivo de instalação. \n",
        "\n",
        "Após instalar o R em seu computador, é necessário instalar uma IDE (RStudio), para programar. \n",
        "\n",
        "##**1.2 Instalando o RStudio**\n",
        "\n",
        "Sobre o RStudio, é importante saber que ele é um software livre de ambiente de desenvolvimento integrado para R, uma linguagem de programação para gráficos e cálculos estatísticos. Pode-se afirmar ainda que o RStudio possui uma interface gráfica que simplifica o uso da linguagem R na manipulação de dados, na criação de gráficos e nos cálculos estatísticos. \n",
        "\n",
        "Depois dessa breve explicação, vamos aprender a instalar o programa RStudio. Para isso, vamos abrir o navegador e, na barra de endereço, digitar o link: https://rstudio.com/products/rstudio/download/#download. A página exibida apresentará uma lista com os principais navegadores. Em seguida, devemos escolher a versão compatível com o sistema operacional utilizado e executar o arquivo de instalação. \n",
        "\n",
        "##**1.3 Conhecendo o RStudio**\n",
        "\n",
        "Após a instalação do programa RStudio, para usá-lo efetivamente, é necessário conhecer a sua estrutura.\n",
        "\n",
        "O RStudio é dividido em quatro janelas ou quadrantes: “Source”, “Console”, “Environment” e “Visualização”.\n",
        "\n",
        "###Source\n",
        "* Parte superior à esquerda é o local onde o códdigo é digitado.\n",
        "\n",
        "###Console\n",
        "* Parte inferior a esquerda é onde é exibido o resultdo do que é executado no Source\n",
        "\n",
        "###Environment\n",
        "* Parte Superior a direita é exibido os objetos que estão carregados na memória. Também é utilizada para remover ou salvar objetos.\n",
        "\n",
        "###Visualização\n",
        "\n",
        "* Parte Inferior a direita é composta por 4 Abas:\n",
        "> **FILES**: Exibe a estrutura de arquivos do projeto /\n",
        "> **PLOTS**: Exibe os Gráfico. /\n",
        "> **PACKAGES**: Permite instalar, atualizar e pesquisar pacotes instalados. /\n",
        "> **Help**: Exibe a documentação quando a função\"help()\" é executada.\n",
        "\n",
        "## Colab.google \"R\"\n",
        "Caso não queira instalar nada em seu computador você utilizar o ambiente de colaboração e desenvolvimento do goggle o Collaboratori ou mais conhecido como colab. A desvantagem são os recursos e facilidades que uma IDE trás a programação.\n",
        "Segue Link para novo notebook na linguagem R.\n",
        "\n",
        "https://colab.research.google.com/notebook#create=true&language=r"
      ]
    },
    {
      "cell_type": "markdown",
      "metadata": {
        "id": "KVWF1WsxAv1o"
      },
      "source": [
        "# **2. Análise de Dados em Linguagem R**\n",
        "A análise de dados tem grande importância na tomada de decisões, auxiliando instituições na detecção de anomalias, monitoramento de indicadores ou melhoria de processos. \n",
        "Neste tutorial, aprenda a utilizar a linguagem R na preparação e exploração dos dados, apresentando os resultados por meio de gráficos e painéis gerenciais."
      ]
    },
    {
      "cell_type": "markdown",
      "metadata": {
        "id": "4aSwRxhUey1r"
      },
      "source": [
        "#  2.1 - Criando o primeiro Script em R ** \n",
        "\n",
        "*   Criar uma variavel\n",
        "* Conhecer o comando \"<-\" = recebe(serve para atribuir valores a uma variavel\n",
        "*   utilizar o comando \"print()\"\n",
        "\n",
        "\n",
        "\n",
        "vamos criar uma variavel \"msg\" e atribuir uma mensagem \"Hello Word\""
      ]
    },
    {
      "cell_type": "code",
      "metadata": {
        "id": "MnpzzbSaeTYZ"
      },
      "source": [
        "msg <- \"Heloo word\""
      ],
      "execution_count": null,
      "outputs": []
    },
    {
      "cell_type": "markdown",
      "metadata": {
        "id": "CJPAEs6XfNJs"
      },
      "source": [
        "para mostra na tela o valor armazenado na variavel basta  digitar o comando>\n",
        "\n",
        "print(msg)"
      ]
    },
    {
      "cell_type": "code",
      "metadata": {
        "id": "2V_P8EFLfGjo",
        "colab": {
          "base_uri": "https://localhost:8080/"
        },
        "outputId": "3881194b-47f2-49ba-aaa8-ea6848dbc535"
      },
      "source": [
        "print (msg)"
      ],
      "execution_count": null,
      "outputs": [
        {
          "output_type": "stream",
          "text": [
            "[1] \"Heloo word\"\n"
          ],
          "name": "stdout"
        }
      ]
    },
    {
      "cell_type": "markdown",
      "metadata": {
        "id": "difYBWj2fLFw"
      },
      "source": [
        "# 2.2 - Comentar seu Código (Documentação) \n",
        "\n",
        "* Aprender a comentar o código utilizando \"#\"\n",
        "\n",
        "> Vamos criar comentários em nosso código\n",
        "\n",
        "Obs.: Uma boa prática no desenvolvimento de aplicações e códigos, é utilizar de comentários ao longo do cógigo para facilitar a identificação e objetivos daquele código. Chamamos isso de \"Documentação do Programa\"\n"
      ]
    },
    {
      "cell_type": "code",
      "metadata": {
        "id": "Z7e_oi8Nh8lq",
        "colab": {
          "base_uri": "https://localhost:8080/"
        },
        "outputId": "16d6ed9a-e36a-4f87-830e-9652e115a01c"
      },
      "source": [
        "msg <- \"Heloo word\"\n",
        "print (msg)\n",
        "# Isso é um comentário"
      ],
      "execution_count": null,
      "outputs": [
        {
          "output_type": "stream",
          "text": [
            "[1] \"Heloo word\"\n"
          ],
          "name": "stdout"
        }
      ]
    },
    {
      "cell_type": "markdown",
      "metadata": {
        "id": "iAHSif86isTz"
      },
      "source": [
        "observe que a saída após a execução do código, não mostra a mensagem antes de \"#\" \n"
      ]
    },
    {
      "cell_type": "markdown",
      "metadata": {
        "id": "_-pgai96jCJV"
      },
      "source": [
        "# 2.3 - Documentação da Função\n",
        "\n",
        "Toda vez que tiver dúvida sobre um parametro ou função que será utilizada é possível consultar a documentação através do comando \"?\" na frente da função que se tem dúvida.\n",
        "Ex.:\n"
      ]
    },
    {
      "cell_type": "code",
      "metadata": {
        "id": "nya-pildi2PZ"
      },
      "source": [
        "?print"
      ],
      "execution_count": null,
      "outputs": []
    },
    {
      "cell_type": "markdown",
      "metadata": {
        "id": "A5GsB0uDjrk7"
      },
      "source": [
        "O Programa tráz como saída a documentação da função \"print\".\n",
        "\n"
      ]
    },
    {
      "cell_type": "markdown",
      "metadata": {
        "id": "hEEZ4IFpthFp"
      },
      "source": [
        "# 2.4 - Instalando Pacotes\n",
        "Uma das grandes vantagens do R são diversos pacotes disponíveis. \n",
        "Para usarmos as funções que um pacote oferece, primeiro é necessário instalar o pacote desejado por meio da função “install.packages()” e depois carregá-lo utilizando a função “library()”.\n",
        "Exemplo:\n"
      ]
    },
    {
      "cell_type": "code",
      "metadata": {
        "id": "ztZnDy2-tv4P",
        "colab": {
          "base_uri": "https://localhost:8080/"
        },
        "outputId": "633ea815-48c5-4e98-e3ff-5264e467882b"
      },
      "source": [
        "install.packages (\"ggplot2\")"
      ],
      "execution_count": null,
      "outputs": [
        {
          "output_type": "stream",
          "text": [
            "Installing package into ‘/usr/local/lib/R/site-library’\n",
            "(as ‘lib’ is unspecified)\n",
            "\n"
          ],
          "name": "stderr"
        }
      ]
    },
    {
      "cell_type": "code",
      "metadata": {
        "id": "eQfIia8JkvM3"
      },
      "source": [
        "library(ggplot2)"
      ],
      "execution_count": null,
      "outputs": []
    },
    {
      "cell_type": "markdown",
      "metadata": {
        "id": "_KTXvxjivwL0"
      },
      "source": [
        "Após essa instalação e carregamento. Já podemos utilizar as funções do Pacote GGPLOT2"
      ]
    },
    {
      "cell_type": "code",
      "metadata": {
        "id": "Yo8u3nkFv8LQ"
      },
      "source": [
        ""
      ],
      "execution_count": null,
      "outputs": []
    },
    {
      "cell_type": "markdown",
      "metadata": {
        "id": "wkNRhK0Vv-7R"
      },
      "source": [
        "# 2.5 - Estruturas de Dados em R\n",
        "\n",
        "Na linguagem R temos diversas estruturas que permitem armazenar os dados produzidos. Nesse tópico, vamos conhecer essas estruturas e suas principais funções.\n",
        "\n",
        "**Vetor**\n",
        "Armazena um conjunto de valores ordenados chamados de elementos. Todos os elementos de um vetor devem ser do mesmo tipo.\n",
        "\n",
        "**Fator**\n",
        "Armazena valores categóricos (nominal ou ordinal).\n",
        "\n",
        "**Lista**\n",
        "É um tipo especial de vetor, porém é possível adicionar elementos de tipos diferentes.\n",
        "\n",
        "**Data frame**\n",
        "É utilizado para organizar elementos em linhas e colunas, semelhante a uma planilha ou base de dados. Além disso, pode ser formado por listas ou vetores.\n",
        "\n",
        "**Matriz**\n",
        "Armazena dados tabulares semelhante ao data frame, porém só aceita um tipo de dado."
      ]
    },
    {
      "cell_type": "markdown",
      "metadata": {
        "id": "c6Fl4iDU0LBF"
      },
      "source": [
        "## 2.5.1 - Vetores"
      ]
    },
    {
      "cell_type": "code",
      "metadata": {
        "id": "BGrealU4j1W6",
        "colab": {
          "base_uri": "https://localhost:8080/",
          "height": 34
        },
        "outputId": "b24f520d-f884-40c9-8cc2-c164e6aad311"
      },
      "source": [
        "#Vamos criar o vetor cidade com a função: \"c()\" - Obs.: A virgula separa cada elemento do vetor. Como estamos digitando strin(texto, precisamos fazer isso entre aspas)\n",
        "cidade <- c(\"Brasília\", \"São Paulo\", \"Rio de Janeiro\", \"Porto Alegre\")\n",
        "\n",
        "cidade\n"
      ],
      "execution_count": null,
      "outputs": [
        {
          "output_type": "display_data",
          "data": {
            "text/plain": [
              "[1] \"Brasília\"       \"São Paulo\"      \"Rio de Janeiro\" \"Porto Alegre\"  "
            ],
            "text/latex": "\\begin{enumerate*}\n\\item 'Brasília'\n\\item 'São Paulo'\n\\item 'Rio de Janeiro'\n\\item 'Porto Alegre'\n\\end{enumerate*}\n",
            "text/markdown": "1. 'Brasília'\n2. 'São Paulo'\n3. 'Rio de Janeiro'\n4. 'Porto Alegre'\n\n\n",
            "text/html": [
              "<style>\n",
              ".list-inline {list-style: none; margin:0; padding: 0}\n",
              ".list-inline>li {display: inline-block}\n",
              ".list-inline>li:not(:last-child)::after {content: \"\\00b7\"; padding: 0 .5ex}\n",
              "</style>\n",
              "<ol class=list-inline><li>'Brasília'</li><li>'São Paulo'</li><li>'Rio de Janeiro'</li><li>'Porto Alegre'</li></ol>\n"
            ]
          },
          "metadata": {
            "tags": []
          }
        }
      ]
    },
    {
      "cell_type": "code",
      "metadata": {
        "id": "uaoPDiMHyjOC"
      },
      "source": [
        "#Agora vamos criar outros vetores  \"temperatura e regiao\" com a função \"c() \"\n",
        "\n",
        "temperatura <- c(32,22,35,17)\n",
        "regiao <- c(1,2,2,3)\n"
      ],
      "execution_count": null,
      "outputs": []
    },
    {
      "cell_type": "markdown",
      "metadata": {
        "id": "hIUcreOI0CeC"
      },
      "source": [
        "### Operações com Vetores"
      ]
    },
    {
      "cell_type": "code",
      "metadata": {
        "id": "ejoljAECzjNk",
        "colab": {
          "base_uri": "https://localhost:8080/",
          "height": 34
        },
        "outputId": "ac5b23f1-a71b-465f-f3d8-3658d04e3518"
      },
      "source": [
        "# Acessando o primeiro elemento de um vetor ...\n",
        "#Comando: NomeVetor[posição]\n",
        "\n",
        "cidade[1]\n",
        "\n",
        "#Obs1.: As informações dos vetores sempre vão utilizar []\n",
        "#Obs2.: Diferente das Outras Linguagens de Programação em \"R\" a contagem de elementos na mémoria começa em 1.\n"
      ],
      "execution_count": null,
      "outputs": [
        {
          "output_type": "display_data",
          "data": {
            "text/plain": [
              "[1] \"Brasília\""
            ],
            "text/latex": "'Brasília'",
            "text/markdown": "'Brasília'",
            "text/html": [
              "'Brasília'"
            ]
          },
          "metadata": {
            "tags": []
          }
        }
      ]
    },
    {
      "cell_type": "code",
      "metadata": {
        "id": "bKR4yH6bC0Fg",
        "colab": {
          "base_uri": "https://localhost:8080/",
          "height": 34
        },
        "outputId": "fb5a8c03-44db-49d6-f47f-2305bd696296"
      },
      "source": [
        "# Acessar um intervalo de valores denro do vetor:\n",
        "# Comando: NomeVetor [x1:x2] (x1 = inicio e x2 = fim)\n",
        "temperatura[1:3]"
      ],
      "execution_count": null,
      "outputs": [
        {
          "output_type": "display_data",
          "data": {
            "text/plain": [
              "[1] 32 22 35"
            ],
            "text/latex": "\\begin{enumerate*}\n\\item 32\n\\item 22\n\\item 35\n\\end{enumerate*}\n",
            "text/markdown": "1. 32\n2. 22\n3. 35\n\n\n",
            "text/html": [
              "<style>\n",
              ".list-inline {list-style: none; margin:0; padding: 0}\n",
              ".list-inline>li {display: inline-block}\n",
              ".list-inline>li:not(:last-child)::after {content: \"\\00b7\"; padding: 0 .5ex}\n",
              "</style>\n",
              "<ol class=list-inline><li>32</li><li>22</li><li>35</li></ol>\n"
            ]
          },
          "metadata": {
            "tags": []
          }
        }
      ]
    },
    {
      "cell_type": "code",
      "metadata": {
        "id": "7U1YzFEgECEn",
        "colab": {
          "base_uri": "https://localhost:8080/",
          "height": 34
        },
        "outputId": "c37d0b9e-0d1a-48bd-9b99-65316c209c59"
      },
      "source": [
        "# Copiar um vetor, Para copiar um vetor é necessário ter uma outra variavél que vai receber o vetor\n",
        "# por exemplo vamos declarar a nova variavél \"cidade2\" e depois atribuir o vetor cidade nessa variavel. \n",
        "# Comando: NovaVariavel <- NomeVetor\n",
        "cidade2 <- cidade\n",
        "cidade2"
      ],
      "execution_count": null,
      "outputs": [
        {
          "output_type": "display_data",
          "data": {
            "text/plain": [
              "[1] \"Brasília\"       \"São Paulo\"      \"Rio de Janeiro\" \"Porto Alegre\"  "
            ],
            "text/latex": "\\begin{enumerate*}\n\\item 'Brasília'\n\\item 'São Paulo'\n\\item 'Rio de Janeiro'\n\\item 'Porto Alegre'\n\\end{enumerate*}\n",
            "text/markdown": "1. 'Brasília'\n2. 'São Paulo'\n3. 'Rio de Janeiro'\n4. 'Porto Alegre'\n\n\n",
            "text/html": [
              "<style>\n",
              ".list-inline {list-style: none; margin:0; padding: 0}\n",
              ".list-inline>li {display: inline-block}\n",
              ".list-inline>li:not(:last-child)::after {content: \"\\00b7\"; padding: 0 .5ex}\n",
              "</style>\n",
              "<ol class=list-inline><li>'Brasília'</li><li>'São Paulo'</li><li>'Rio de Janeiro'</li><li>'Porto Alegre'</li></ol>\n"
            ]
          },
          "metadata": {
            "tags": []
          }
        }
      ]
    },
    {
      "cell_type": "code",
      "metadata": {
        "id": "SGBM3qDqFChg",
        "colab": {
          "base_uri": "https://localhost:8080/",
          "height": 34
        },
        "outputId": "21efa6e5-d96d-421c-cdaa-097d58e26c36"
      },
      "source": [
        "#Excluir um elemento do VETOR.\n",
        "# para excluir um elemento utilizamos o sinal de - (menos)\n",
        "#Comando: NomeVetor[-posição]\n",
        "temperatura[-2]\n",
        "# Retotnou o vetor temperatura, sem o elemento que estava na posição 2 = 22"
      ],
      "execution_count": null,
      "outputs": [
        {
          "output_type": "display_data",
          "data": {
            "text/plain": [
              "[1] 32 35 17"
            ],
            "text/latex": "\\begin{enumerate*}\n\\item 32\n\\item 35\n\\item 17\n\\end{enumerate*}\n",
            "text/markdown": "1. 32\n2. 35\n3. 17\n\n\n",
            "text/html": [
              "<style>\n",
              ".list-inline {list-style: none; margin:0; padding: 0}\n",
              ".list-inline>li {display: inline-block}\n",
              ".list-inline>li:not(:last-child)::after {content: \"\\00b7\"; padding: 0 .5ex}\n",
              "</style>\n",
              "<ol class=list-inline><li>32</li><li>35</li><li>17</li></ol>\n"
            ]
          },
          "metadata": {
            "tags": []
          }
        }
      ]
    },
    {
      "cell_type": "code",
      "metadata": {
        "id": "9qQxJqOPGN5_",
        "colab": {
          "base_uri": "https://localhost:8080/",
          "height": 34
        },
        "outputId": "4dc2703e-eb4b-4978-fee3-0c328f7ac0df"
      },
      "source": [
        "# Alterar/Substituir um elemento do Vetor.\n",
        "# é necessário declarar o Vetor com a posição que será alterada.\n",
        "# Comando: NomeVetor[posição <- \"Alteração\"]\n",
        "\n",
        "cidade2[3] <- \"Belo Horizonte\"\n",
        "cidade2\n",
        "\n",
        "# A posição 3 do Vetor cidade2 foi alterada de \"Rio de Janeiro\" para \"Belo Horizonte\""
      ],
      "execution_count": null,
      "outputs": [
        {
          "output_type": "display_data",
          "data": {
            "text/plain": [
              "[1] \"Brasília\"       \"São Paulo\"      \"Belo Horizonte\" \"Porto Alegre\"  "
            ],
            "text/latex": "\\begin{enumerate*}\n\\item 'Brasília'\n\\item 'São Paulo'\n\\item 'Belo Horizonte'\n\\item 'Porto Alegre'\n\\end{enumerate*}\n",
            "text/markdown": "1. 'Brasília'\n2. 'São Paulo'\n3. 'Belo Horizonte'\n4. 'Porto Alegre'\n\n\n",
            "text/html": [
              "<style>\n",
              ".list-inline {list-style: none; margin:0; padding: 0}\n",
              ".list-inline>li {display: inline-block}\n",
              ".list-inline>li:not(:last-child)::after {content: \"\\00b7\"; padding: 0 .5ex}\n",
              "</style>\n",
              "<ol class=list-inline><li>'Brasília'</li><li>'São Paulo'</li><li>'Belo Horizonte'</li><li>'Porto Alegre'</li></ol>\n"
            ]
          },
          "metadata": {
            "tags": []
          }
        }
      ]
    },
    {
      "cell_type": "code",
      "metadata": {
        "id": "RoqX1lKPHi9f",
        "colab": {
          "base_uri": "https://localhost:8080/",
          "height": 34
        },
        "outputId": "b0225c08-0abb-42db-baf5-6e04e5c68485"
      },
      "source": [
        "# Incluir um novo elemento.\n",
        "#Comando: NomeVetor[NovaPosiçao] <- \"NovoElemento\"\n",
        "\n",
        "cidade2[5] <- \"Curitiba\"\n",
        "cidade2\n",
        "# A SAída mostra que o Vetor agora possui 5 elementos"
      ],
      "execution_count": null,
      "outputs": [
        {
          "output_type": "display_data",
          "data": {
            "text/plain": [
              "[1] \"Brasília\"       \"São Paulo\"      \"Belo Horizonte\" \"Porto Alegre\"  \n",
              "[5] \"Curitiba\"      "
            ],
            "text/latex": "\\begin{enumerate*}\n\\item 'Brasília'\n\\item 'São Paulo'\n\\item 'Belo Horizonte'\n\\item 'Porto Alegre'\n\\item 'Curitiba'\n\\end{enumerate*}\n",
            "text/markdown": "1. 'Brasília'\n2. 'São Paulo'\n3. 'Belo Horizonte'\n4. 'Porto Alegre'\n5. 'Curitiba'\n\n\n",
            "text/html": [
              "<style>\n",
              ".list-inline {list-style: none; margin:0; padding: 0}\n",
              ".list-inline>li {display: inline-block}\n",
              ".list-inline>li:not(:last-child)::after {content: \"\\00b7\"; padding: 0 .5ex}\n",
              "</style>\n",
              "<ol class=list-inline><li>'Brasília'</li><li>'São Paulo'</li><li>'Belo Horizonte'</li><li>'Porto Alegre'</li><li>'Curitiba'</li></ol>\n"
            ]
          },
          "metadata": {
            "tags": []
          }
        }
      ]
    },
    {
      "cell_type": "code",
      "metadata": {
        "id": "jakMk2IwHjGm",
        "colab": {
          "base_uri": "https://localhost:8080/",
          "height": 34
        },
        "outputId": "adc3b23b-59df-47d5-f6f6-f25dc294efce"
      },
      "source": [
        "# Deletar/Apagar o Vetor: (NULL)\n",
        "# Comando: NomVetor <- NULL\n",
        "\n",
        "cidade2 <- NULL\n",
        "cidade2"
      ],
      "execution_count": null,
      "outputs": [
        {
          "output_type": "display_data",
          "data": {
            "text/plain": [
              "NULL"
            ]
          },
          "metadata": {
            "tags": []
          }
        }
      ]
    },
    {
      "cell_type": "markdown",
      "metadata": {
        "id": "O3RLmE2oHjPT"
      },
      "source": [
        "## 2.5.2 - Fator\n",
        "\n",
        "Fatores armazem variáveis categóricas (de categorias) e tipos enumerados.\n",
        "Para criar os fatos utilizamos a função \"factor()\""
      ]
    },
    {
      "cell_type": "code",
      "metadata": {
        "id": "8xnSmGutI-Of",
        "colab": {
          "base_uri": "https://localhost:8080/",
          "height": 50
        },
        "outputId": "885924d1-1bab-4158-c16d-72617f8de584"
      },
      "source": [
        "#Criar a variável \"UF\", com uma lista de unidades federativas\n",
        "?factor\n",
        "UF <- factor(c(\"DF\", \"SP\", \"RJ\", \"RS\"))\n",
        "UF\n",
        "# A SAída do comando foi demonstrar as categorias existentes chamadas \"Levels\""
      ],
      "execution_count": null,
      "outputs": [
        {
          "output_type": "display_data",
          "data": {
            "text/plain": [
              "[1] DF SP RJ RS\n",
              "Levels: DF RJ RS SP"
            ],
            "text/latex": "\\begin{enumerate*}\n\\item DF\n\\item SP\n\\item RJ\n\\item RS\n\\end{enumerate*}\n\n\\emph{Levels}: \\begin{enumerate*}\n\\item 'DF'\n\\item 'RJ'\n\\item 'RS'\n\\item 'SP'\n\\end{enumerate*}\n",
            "text/markdown": "1. DF\n2. SP\n3. RJ\n4. RS\n\n\n\n**Levels**: 1. 'DF'\n2. 'RJ'\n3. 'RS'\n4. 'SP'\n\n\n",
            "text/html": [
              "<style>\n",
              ".list-inline {list-style: none; margin:0; padding: 0}\n",
              ".list-inline>li {display: inline-block}\n",
              ".list-inline>li:not(:last-child)::after {content: \"\\00b7\"; padding: 0 .5ex}\n",
              "</style>\n",
              "<ol class=list-inline><li>DF</li><li>SP</li><li>RJ</li><li>RS</li></ol>\n",
              "\n",
              "<details>\n",
              "\t<summary style=display:list-item;cursor:pointer>\n",
              "\t\t<strong>Levels</strong>:\n",
              "\t</summary>\n",
              "\t<style>\n",
              "\t.list-inline {list-style: none; margin:0; padding: 0}\n",
              "\t.list-inline>li {display: inline-block}\n",
              "\t.list-inline>li:not(:last-child)::after {content: \"\\00b7\"; padding: 0 .5ex}\n",
              "\t</style>\n",
              "\t<ol class=list-inline><li>'DF'</li><li>'RJ'</li><li>'RS'</li><li>'SP'</li></ol>\n",
              "</details>"
            ]
          },
          "metadata": {
            "tags": []
          }
        }
      ]
    },
    {
      "cell_type": "code",
      "metadata": {
        "id": "qEWDp1GgI98v"
      },
      "source": [
        "# A Funcionalidade \"fatores ordenados\" :\n",
        "#Parâmetros: \"leves\" e \"ordered\".\n",
        "\n",
        "grau.instrucao <- factor(c(\"Nível Médio\",\n",
        "                        \"Superior\",\n",
        "                        \"Nivel Médio\",\n",
        "                        \"Fundamental\"),\n",
        "                  levels = c(\"Fundamental\",\n",
        "                           \"Nível Médio\",\n",
        "                            \"Superior\"),\n",
        "                  ordered = TRUE)\n",
        "    "
      ],
      "execution_count": null,
      "outputs": []
    },
    {
      "cell_type": "code",
      "metadata": {
        "id": "_V6TOraYaRZk",
        "colab": {
          "base_uri": "https://localhost:8080/",
          "height": 50
        },
        "outputId": "0d76f318-1821-4ec3-b7e9-2e8ddc3727f9"
      },
      "source": [
        "grau.instrucao"
      ],
      "execution_count": null,
      "outputs": [
        {
          "output_type": "display_data",
          "data": {
            "text/plain": [
              "[1] Nível Médio Superior    <NA>        Fundamental\n",
              "Levels: Fundamental < Nível Médio < Superior"
            ],
            "text/latex": "\\begin{enumerate*}\n\\item Nível Médio\n\\item Superior\n\\item <NA>\n\\item Fundamental\n\\end{enumerate*}\n\n\\emph{Levels}: \\begin{enumerate*}\n\\item 'Fundamental'\n\\item 'Nível Médio'\n\\item 'Superior'\n\\end{enumerate*}\n",
            "text/markdown": "1. Nível Médio\n2. Superior\n3. &lt;NA&gt;\n4. Fundamental\n\n\n\n**Levels**: 1. 'Fundamental'\n2. 'Nível Médio'\n3. 'Superior'\n\n\n",
            "text/html": [
              "<style>\n",
              ".list-inline {list-style: none; margin:0; padding: 0}\n",
              ".list-inline>li {display: inline-block}\n",
              ".list-inline>li:not(:last-child)::after {content: \"\\00b7\"; padding: 0 .5ex}\n",
              "</style>\n",
              "<ol class=list-inline><li>Nível Médio</li><li>Superior</li><li>&lt;NA&gt;</li><li>Fundamental</li></ol>\n",
              "\n",
              "<details>\n",
              "\t<summary style=display:list-item;cursor:pointer>\n",
              "\t\t<strong>Levels</strong>:\n",
              "\t</summary>\n",
              "\t<style>\n",
              "\t.list-inline {list-style: none; margin:0; padding: 0}\n",
              "\t.list-inline>li {display: inline-block}\n",
              "\t.list-inline>li:not(:last-child)::after {content: \"\\00b7\"; padding: 0 .5ex}\n",
              "\t</style>\n",
              "\t<ol class=list-inline><li>'Fundamental'</li><li>'Nível Médio'</li><li>'Superior'</li></ol>\n",
              "</details>"
            ]
          },
          "metadata": {
            "tags": []
          }
        }
      ]
    },
    {
      "cell_type": "markdown",
      "metadata": {
        "id": "OOqcPN43dYeJ"
      },
      "source": [
        "Ao visualizar o fator ordenado \"grau.instrucao\", que foi criado. É possível verificar a ordem atribuida:O Sinal de menor indica que \"Fundamental\", vem antes de \"Nível Médio\" que vem antes de \"Superior\"."
      ]
    },
    {
      "cell_type": "markdown",
      "metadata": {
        "id": "OS6wmXZveJeK"
      },
      "source": [
        "## 2.5.3 - Lista\n",
        "\n",
        "Vamos aprender a estrutura de uma lista. Para criar uma lista utilizamos: \"list()\""
      ]
    },
    {
      "cell_type": "code",
      "metadata": {
        "id": "zoeDW0-ieAo1",
        "colab": {
          "base_uri": "https://localhost:8080/",
          "height": 146
        },
        "outputId": "40527a83-6d73-42be-c0d6-757af2f14bc2"
      },
      "source": [
        "?list()\n",
        "pessoa <- list(sexo = \"M\", cidade = \"Brasília\", idade = 20)\n",
        "\n",
        "pessoa"
      ],
      "execution_count": null,
      "outputs": [
        {
          "output_type": "display_data",
          "data": {
            "text/plain": [
              "$sexo\n",
              "[1] \"M\"\n",
              "\n",
              "$cidade\n",
              "[1] \"Brasília\"\n",
              "\n",
              "$idade\n",
              "[1] 20\n"
            ],
            "text/latex": "\\begin{description}\n\\item[\\$sexo] 'M'\n\\item[\\$cidade] 'Brasília'\n\\item[\\$idade] 20\n\\end{description}\n",
            "text/markdown": "$sexo\n:   'M'\n$cidade\n:   'Brasília'\n$idade\n:   20\n\n\n",
            "text/html": [
              "<dl>\n",
              "\t<dt>$sexo</dt>\n",
              "\t\t<dd>'M'</dd>\n",
              "\t<dt>$cidade</dt>\n",
              "\t\t<dd>'Brasília'</dd>\n",
              "\t<dt>$idade</dt>\n",
              "\t\t<dd>20</dd>\n",
              "</dl>\n"
            ]
          },
          "metadata": {
            "tags": []
          }
        }
      ]
    },
    {
      "cell_type": "code",
      "metadata": {
        "id": "oZRaibtxe7tC",
        "colab": {
          "base_uri": "https://localhost:8080/",
          "height": 50
        },
        "outputId": "9e703a1e-48cf-460e-f828-459f66a2a659"
      },
      "source": [
        "#Para acessar um item da lista, utilizamo a notação \"Lista[posição]\", que ira retornar o valor da posição informada:\n",
        "# O 1º exemplo retorna o atributo e o valor da lista\n",
        "# O 2º exemplo retorna apenas o valor da lista\n",
        "pessoa[1] \n",
        "#Ou\n",
        "pessoa[[1]]"
      ],
      "execution_count": null,
      "outputs": [
        {
          "output_type": "display_data",
          "data": {
            "text/plain": [
              "$sexo\n",
              "[1] \"M\"\n"
            ],
            "text/latex": "\\textbf{\\$sexo} = 'M'",
            "text/markdown": "**$sexo** = 'M'",
            "text/html": [
              "<strong>$sexo</strong> = 'M'"
            ]
          },
          "metadata": {
            "tags": []
          }
        },
        {
          "output_type": "display_data",
          "data": {
            "text/plain": [
              "[1] \"M\""
            ],
            "text/latex": "'M'",
            "text/markdown": "'M'",
            "text/html": [
              "'M'"
            ]
          },
          "metadata": {
            "tags": []
          }
        }
      ]
    },
    {
      "cell_type": "code",
      "metadata": {
        "id": "l2o4NM6Nfg9c",
        "colab": {
          "base_uri": "https://localhost:8080/",
          "height": 146
        },
        "outputId": "b57eb71b-d7eb-4c75-d660-3a71c244740d"
      },
      "source": [
        "# Deletar/Apagar uma Lista: (NULL)\n",
        "# Comando: NomeLista <- NULL\n",
        "\n",
        "pessoa[[\"idade\"]] <- 22\n",
        "pessoa\n"
      ],
      "execution_count": null,
      "outputs": [
        {
          "output_type": "display_data",
          "data": {
            "text/plain": [
              "$sexo\n",
              "[1] \"M\"\n",
              "\n",
              "$cidade\n",
              "[1] \"Brasília\"\n",
              "\n",
              "$idade\n",
              "[1] 22\n"
            ],
            "text/latex": "\\begin{description}\n\\item[\\$sexo] 'M'\n\\item[\\$cidade] 'Brasília'\n\\item[\\$idade] 22\n\\end{description}\n",
            "text/markdown": "$sexo\n:   'M'\n$cidade\n:   'Brasília'\n$idade\n:   22\n\n\n",
            "text/html": [
              "<dl>\n",
              "\t<dt>$sexo</dt>\n",
              "\t\t<dd>'M'</dd>\n",
              "\t<dt>$cidade</dt>\n",
              "\t\t<dd>'Brasília'</dd>\n",
              "\t<dt>$idade</dt>\n",
              "\t\t<dd>22</dd>\n",
              "</dl>\n"
            ]
          },
          "metadata": {
            "tags": []
          }
        }
      ]
    },
    {
      "cell_type": "code",
      "metadata": {
        "id": "JGTG_nXvgceT",
        "colab": {
          "base_uri": "https://localhost:8080/",
          "height": 112
        },
        "outputId": "570dc04c-a4d8-46de-b816-7b00442f9afa"
      },
      "source": [
        "pessoa[[\"idade\"]] <- NULL\n",
        "pessoa"
      ],
      "execution_count": null,
      "outputs": [
        {
          "output_type": "display_data",
          "data": {
            "text/plain": [
              "$sexo\n",
              "[1] \"M\"\n",
              "\n",
              "$cidade\n",
              "[1] \"Brasília\"\n"
            ],
            "text/latex": "\\begin{description}\n\\item[\\$sexo] 'M'\n\\item[\\$cidade] 'Brasília'\n\\end{description}\n",
            "text/markdown": "$sexo\n:   'M'\n$cidade\n:   'Brasília'\n\n\n",
            "text/html": [
              "<dl>\n",
              "\t<dt>$sexo</dt>\n",
              "\t\t<dd>'M'</dd>\n",
              "\t<dt>$cidade</dt>\n",
              "\t\t<dd>'Brasília'</dd>\n",
              "</dl>\n"
            ]
          },
          "metadata": {
            "tags": []
          }
        }
      ]
    },
    {
      "cell_type": "code",
      "metadata": {
        "id": "nMse03IjghaJ",
        "colab": {
          "base_uri": "https://localhost:8080/",
          "height": 112
        },
        "outputId": "8b5e35e6-970b-46d1-e598-0297ba4d1629"
      },
      "source": [
        "# Filtrando elementos da lista\n",
        "# Neste caso o valor não é deletado da lista.\n",
        "pessoa[c(\"cidade\", \"sexo\")]"
      ],
      "execution_count": null,
      "outputs": [
        {
          "output_type": "display_data",
          "data": {
            "text/plain": [
              "$cidade\n",
              "[1] \"Brasília\"\n",
              "\n",
              "$sexo\n",
              "[1] \"M\"\n"
            ],
            "text/latex": "\\begin{description}\n\\item[\\$cidade] 'Brasília'\n\\item[\\$sexo] 'M'\n\\end{description}\n",
            "text/markdown": "$cidade\n:   'Brasília'\n$sexo\n:   'M'\n\n\n",
            "text/html": [
              "<dl>\n",
              "\t<dt>$cidade</dt>\n",
              "\t\t<dd>'Brasília'</dd>\n",
              "\t<dt>$sexo</dt>\n",
              "\t\t<dd>'M'</dd>\n",
              "</dl>\n"
            ]
          },
          "metadata": {
            "tags": []
          }
        }
      ]
    },
    {
      "cell_type": "markdown",
      "metadata": {
        "id": "JdenYgg_jUAF"
      },
      "source": [
        "Uma lista aceita diferentes tipo de dados. No exemplo abaixo vamos criar uma lista com o vetores criados anteriormente.\n",
        "** Lista de Listas**\n"
      ]
    },
    {
      "cell_type": "code",
      "metadata": {
        "id": "mW55fm0vhXTk"
      },
      "source": [
        "# Lista de Listas\n",
        "cidades <- list(cidade = cidade,\n",
        "                  temperatura = temperatura,\n",
        "                  regiao = regiao)"
      ],
      "execution_count": null,
      "outputs": []
    },
    {
      "cell_type": "markdown",
      "metadata": {
        "id": "GBjC4RNuke45"
      },
      "source": [
        ""
      ]
    },
    {
      "cell_type": "code",
      "metadata": {
        "id": "iP3Q6N9NhW0v",
        "colab": {
          "base_uri": "https://localhost:8080/",
          "height": 146
        },
        "outputId": "d1a2ab11-b572-4ec7-87fc-410365292dde"
      },
      "source": [
        "cidades"
      ],
      "execution_count": null,
      "outputs": [
        {
          "output_type": "display_data",
          "data": {
            "text/plain": [
              "$cidade\n",
              "[1] \"Brasília\"       \"São Paulo\"      \"Rio de Janeiro\" \"Porto Alegre\"  \n",
              "\n",
              "$temperatura\n",
              "[1] 32 22 35 17\n",
              "\n",
              "$regiao\n",
              "[1] 1 2 2 3\n"
            ],
            "text/latex": "\\begin{description}\n\\item[\\$cidade] \\begin{enumerate*}\n\\item 'Brasília'\n\\item 'São Paulo'\n\\item 'Rio de Janeiro'\n\\item 'Porto Alegre'\n\\end{enumerate*}\n\n\\item[\\$temperatura] \\begin{enumerate*}\n\\item 32\n\\item 22\n\\item 35\n\\item 17\n\\end{enumerate*}\n\n\\item[\\$regiao] \\begin{enumerate*}\n\\item 1\n\\item 2\n\\item 2\n\\item 3\n\\end{enumerate*}\n\n\\end{description}\n",
            "text/markdown": "$cidade\n:   1. 'Brasília'\n2. 'São Paulo'\n3. 'Rio de Janeiro'\n4. 'Porto Alegre'\n\n\n\n$temperatura\n:   1. 32\n2. 22\n3. 35\n4. 17\n\n\n\n$regiao\n:   1. 1\n2. 2\n3. 2\n4. 3\n\n\n\n\n\n",
            "text/html": [
              "<dl>\n",
              "\t<dt>$cidade</dt>\n",
              "\t\t<dd><style>\n",
              ".list-inline {list-style: none; margin:0; padding: 0}\n",
              ".list-inline>li {display: inline-block}\n",
              ".list-inline>li:not(:last-child)::after {content: \"\\00b7\"; padding: 0 .5ex}\n",
              "</style>\n",
              "<ol class=list-inline><li>'Brasília'</li><li>'São Paulo'</li><li>'Rio de Janeiro'</li><li>'Porto Alegre'</li></ol>\n",
              "</dd>\n",
              "\t<dt>$temperatura</dt>\n",
              "\t\t<dd><style>\n",
              ".list-inline {list-style: none; margin:0; padding: 0}\n",
              ".list-inline>li {display: inline-block}\n",
              ".list-inline>li:not(:last-child)::after {content: \"\\00b7\"; padding: 0 .5ex}\n",
              "</style>\n",
              "<ol class=list-inline><li>32</li><li>22</li><li>35</li><li>17</li></ol>\n",
              "</dd>\n",
              "\t<dt>$regiao</dt>\n",
              "\t\t<dd><style>\n",
              ".list-inline {list-style: none; margin:0; padding: 0}\n",
              ".list-inline>li {display: inline-block}\n",
              ".list-inline>li:not(:last-child)::after {content: \"\\00b7\"; padding: 0 .5ex}\n",
              "</style>\n",
              "<ol class=list-inline><li>1</li><li>2</li><li>2</li><li>3</li></ol>\n",
              "</dd>\n",
              "</dl>\n"
            ]
          },
          "metadata": {
            "tags": []
          }
        }
      ]
    },
    {
      "cell_type": "markdown",
      "metadata": {
        "id": "zi83g9CnknIJ"
      },
      "source": [
        "## 2.5.4 - data.frame\n",
        "\n",
        "**Vamos aprender a criar data.frame**\n",
        "\n",
        "Um data.frame é uma estrutura que organiza elementos semelhantes a uma planilha ou base de dados."
      ]
    },
    {
      "cell_type": "code",
      "metadata": {
        "id": "1XXVh4sXojj7",
        "colab": {
          "base_uri": "https://localhost:8080/",
          "height": 155
        },
        "outputId": "79ef5681-aedb-4cf0-ed32-392cc21bcfc0"
      },
      "source": [
        "# Neste exemplo criamos um data.frame com os VETORES \"cidade\" e \"temperatura\"\n",
        "df <-data.frame(cidade, temperatura)\n",
        "df"
      ],
      "execution_count": null,
      "outputs": [
        {
          "output_type": "display_data",
          "data": {
            "text/plain": [
              "  cidade         temperatura\n",
              "1 Brasília       32         \n",
              "2 São Paulo      22         \n",
              "3 Rio de Janeiro 35         \n",
              "4 Porto Alegre   17         "
            ],
            "text/latex": "A data.frame: 4 × 2\n\\begin{tabular}{ll}\n cidade & temperatura\\\\\n <chr> & <dbl>\\\\\n\\hline\n\t Brasília       & 32\\\\\n\t São Paulo      & 22\\\\\n\t Rio de Janeiro & 35\\\\\n\t Porto Alegre   & 17\\\\\n\\end{tabular}\n",
            "text/markdown": "\nA data.frame: 4 × 2\n\n| cidade &lt;chr&gt; | temperatura &lt;dbl&gt; |\n|---|---|\n| Brasília       | 32 |\n| São Paulo      | 22 |\n| Rio de Janeiro | 35 |\n| Porto Alegre   | 17 |\n\n",
            "text/html": [
              "<table>\n",
              "<caption>A data.frame: 4 × 2</caption>\n",
              "<thead>\n",
              "\t<tr><th scope=col>cidade</th><th scope=col>temperatura</th></tr>\n",
              "\t<tr><th scope=col>&lt;chr&gt;</th><th scope=col>&lt;dbl&gt;</th></tr>\n",
              "</thead>\n",
              "<tbody>\n",
              "\t<tr><td>Brasília      </td><td>32</td></tr>\n",
              "\t<tr><td>São Paulo     </td><td>22</td></tr>\n",
              "\t<tr><td>Rio de Janeiro</td><td>35</td></tr>\n",
              "\t<tr><td>Porto Alegre  </td><td>17</td></tr>\n",
              "</tbody>\n",
              "</table>\n"
            ]
          },
          "metadata": {
            "tags": []
          }
        }
      ]
    },
    {
      "cell_type": "code",
      "metadata": {
        "id": "cY65hm4Xk5E6",
        "colab": {
          "base_uri": "https://localhost:8080/",
          "height": 155
        },
        "outputId": "7fc442e7-058a-4d77-883e-b0fcb71e570a"
      },
      "source": [
        "#Criando um data.frame com a LISTA cidades2\n",
        "df2 <- data.frame(cidades)\n",
        "df2"
      ],
      "execution_count": null,
      "outputs": [
        {
          "output_type": "display_data",
          "data": {
            "text/plain": [
              "  cidade         temperatura regiao\n",
              "1 Brasília       32          1     \n",
              "2 São Paulo      22          2     \n",
              "3 Rio de Janeiro 35          2     \n",
              "4 Porto Alegre   17          3     "
            ],
            "text/latex": "A data.frame: 4 × 3\n\\begin{tabular}{lll}\n cidade & temperatura & regiao\\\\\n <chr> & <dbl> & <dbl>\\\\\n\\hline\n\t Brasília       & 32 & 1\\\\\n\t São Paulo      & 22 & 2\\\\\n\t Rio de Janeiro & 35 & 2\\\\\n\t Porto Alegre   & 17 & 3\\\\\n\\end{tabular}\n",
            "text/markdown": "\nA data.frame: 4 × 3\n\n| cidade &lt;chr&gt; | temperatura &lt;dbl&gt; | regiao &lt;dbl&gt; |\n|---|---|---|\n| Brasília       | 32 | 1 |\n| São Paulo      | 22 | 2 |\n| Rio de Janeiro | 35 | 2 |\n| Porto Alegre   | 17 | 3 |\n\n",
            "text/html": [
              "<table>\n",
              "<caption>A data.frame: 4 × 3</caption>\n",
              "<thead>\n",
              "\t<tr><th scope=col>cidade</th><th scope=col>temperatura</th><th scope=col>regiao</th></tr>\n",
              "\t<tr><th scope=col>&lt;chr&gt;</th><th scope=col>&lt;dbl&gt;</th><th scope=col>&lt;dbl&gt;</th></tr>\n",
              "</thead>\n",
              "<tbody>\n",
              "\t<tr><td>Brasília      </td><td>32</td><td>1</td></tr>\n",
              "\t<tr><td>São Paulo     </td><td>22</td><td>2</td></tr>\n",
              "\t<tr><td>Rio de Janeiro</td><td>35</td><td>2</td></tr>\n",
              "\t<tr><td>Porto Alegre  </td><td>17</td><td>3</td></tr>\n",
              "</tbody>\n",
              "</table>\n"
            ]
          },
          "metadata": {
            "tags": []
          }
        }
      ]
    },
    {
      "cell_type": "markdown",
      "metadata": {
        "id": "kjFtaRjKoyp3"
      },
      "source": [
        "As saídas mostram o número de Linhas e numero de colunas, respectivamente(4 x 2) e (4 x 3)"
      ]
    },
    {
      "cell_type": "markdown",
      "metadata": {
        "id": "ArhyWZzOUvZm"
      },
      "source": [
        "### **Operações com data.frame**"
      ]
    },
    {
      "cell_type": "code",
      "metadata": {
        "id": "R9MH3YR0pAYE",
        "colab": {
          "base_uri": "https://localhost:8080/",
          "height": 34
        },
        "outputId": "2b61ae0c-0b33-4fde-a604-7f81f7aa2c2b"
      },
      "source": [
        "# Para filtrar uma informação digitamos o nome do data.frame e entre colchetes colocamos a Linha e a Coluna que desejamos\n",
        "# Comando: data.frame[Linha,Coluna]\n",
        "df[1,2]\n"
      ],
      "execution_count": null,
      "outputs": [
        {
          "output_type": "display_data",
          "data": {
            "text/plain": [
              "[1] 32"
            ],
            "text/latex": "32",
            "text/markdown": "32",
            "text/html": [
              "32"
            ]
          },
          "metadata": {
            "tags": []
          }
        }
      ]
    },
    {
      "cell_type": "code",
      "metadata": {
        "id": "ZBWrNmzXVhfZ",
        "colab": {
          "base_uri": "https://localhost:8080/",
          "height": 34
        },
        "outputId": "24ff30b5-3491-46e1-b241-132401b75c15"
      },
      "source": [
        "# No exemplo como não colocamos a posição da Linha o filtro trouxe toda a Coluna 1 (posição 1)\n",
        "df[,1]"
      ],
      "execution_count": null,
      "outputs": [
        {
          "output_type": "display_data",
          "data": {
            "text/plain": [
              "[1] \"Brasília\"       \"São Paulo\"      \"Rio de Janeiro\" \"Porto Alegre\"  "
            ],
            "text/latex": "\\begin{enumerate*}\n\\item 'Brasília'\n\\item 'São Paulo'\n\\item 'Rio de Janeiro'\n\\item 'Porto Alegre'\n\\end{enumerate*}\n",
            "text/markdown": "1. 'Brasília'\n2. 'São Paulo'\n3. 'Rio de Janeiro'\n4. 'Porto Alegre'\n\n\n",
            "text/html": [
              "<style>\n",
              ".list-inline {list-style: none; margin:0; padding: 0}\n",
              ".list-inline>li {display: inline-block}\n",
              ".list-inline>li:not(:last-child)::after {content: \"\\00b7\"; padding: 0 .5ex}\n",
              "</style>\n",
              "<ol class=list-inline><li>'Brasília'</li><li>'São Paulo'</li><li>'Rio de Janeiro'</li><li>'Porto Alegre'</li></ol>\n"
            ]
          },
          "metadata": {
            "tags": []
          }
        }
      ]
    },
    {
      "cell_type": "code",
      "metadata": {
        "id": "KZZj2B7yV4u5",
        "colab": {
          "base_uri": "https://localhost:8080/",
          "height": 95
        },
        "outputId": "4f2a98fa-3882-4c6e-fc31-6d57d4a80808"
      },
      "source": [
        "# Como não informamos a posição da coluna, apenas a Linha 1, o filtro trouxe TODA a linha 1\n",
        "df[1,]"
      ],
      "execution_count": null,
      "outputs": [
        {
          "output_type": "display_data",
          "data": {
            "text/plain": [
              "  cidade   temperatura\n",
              "1 Brasília 32         "
            ],
            "text/latex": "A data.frame: 1 × 2\n\\begin{tabular}{r|ll}\n  & cidade & temperatura\\\\\n  & <chr> & <dbl>\\\\\n\\hline\n\t1 & Brasília & 32\\\\\n\\end{tabular}\n",
            "text/markdown": "\nA data.frame: 1 × 2\n\n| <!--/--> | cidade &lt;chr&gt; | temperatura &lt;dbl&gt; |\n|---|---|---|\n| 1 | Brasília | 32 |\n\n",
            "text/html": [
              "<table>\n",
              "<caption>A data.frame: 1 × 2</caption>\n",
              "<thead>\n",
              "\t<tr><th></th><th scope=col>cidade</th><th scope=col>temperatura</th></tr>\n",
              "\t<tr><th></th><th scope=col>&lt;chr&gt;</th><th scope=col>&lt;dbl&gt;</th></tr>\n",
              "</thead>\n",
              "<tbody>\n",
              "\t<tr><th scope=row>1</th><td>Brasília</td><td>32</td></tr>\n",
              "</tbody>\n",
              "</table>\n"
            ]
          },
          "metadata": {
            "tags": []
          }
        }
      ]
    },
    {
      "cell_type": "code",
      "metadata": {
        "id": "QXC4xhqsWP6D",
        "colab": {
          "base_uri": "https://localhost:8080/",
          "height": 135
        },
        "outputId": "1d323cde-3769-43ca-892c-7df4055e0565"
      },
      "source": [
        "# Selecionando as 3 primeiras linhas, da 1ª e 3ª coluna\n",
        "df2 [c(1:3), c(1,3)]"
      ],
      "execution_count": null,
      "outputs": [
        {
          "output_type": "display_data",
          "data": {
            "text/plain": [
              "  cidade         regiao\n",
              "1 Brasília       1     \n",
              "2 São Paulo      2     \n",
              "3 Rio de Janeiro 2     "
            ],
            "text/latex": "A data.frame: 3 × 2\n\\begin{tabular}{r|ll}\n  & cidade & regiao\\\\\n  & <chr> & <dbl>\\\\\n\\hline\n\t1 & Brasília       & 1\\\\\n\t2 & São Paulo      & 2\\\\\n\t3 & Rio de Janeiro & 2\\\\\n\\end{tabular}\n",
            "text/markdown": "\nA data.frame: 3 × 2\n\n| <!--/--> | cidade &lt;chr&gt; | regiao &lt;dbl&gt; |\n|---|---|---|\n| 1 | Brasília       | 1 |\n| 2 | São Paulo      | 2 |\n| 3 | Rio de Janeiro | 2 |\n\n",
            "text/html": [
              "<table>\n",
              "<caption>A data.frame: 3 × 2</caption>\n",
              "<thead>\n",
              "\t<tr><th></th><th scope=col>cidade</th><th scope=col>regiao</th></tr>\n",
              "\t<tr><th></th><th scope=col>&lt;chr&gt;</th><th scope=col>&lt;dbl&gt;</th></tr>\n",
              "</thead>\n",
              "<tbody>\n",
              "\t<tr><th scope=row>1</th><td>Brasília      </td><td>1</td></tr>\n",
              "\t<tr><th scope=row>2</th><td>São Paulo     </td><td>2</td></tr>\n",
              "\t<tr><th scope=row>3</th><td>Rio de Janeiro</td><td>2</td></tr>\n",
              "</tbody>\n",
              "</table>\n"
            ]
          },
          "metadata": {
            "tags": []
          }
        }
      ]
    },
    {
      "cell_type": "code",
      "metadata": {
        "id": "gGkincy1WQGj",
        "colab": {
          "base_uri": "https://localhost:8080/",
          "height": 34
        },
        "outputId": "f97baa04-fa1c-4df2-b74a-dfcb67fb564d"
      },
      "source": [
        "# Verificar o nome das Colunas:\n",
        "names(df)"
      ],
      "execution_count": null,
      "outputs": [
        {
          "output_type": "display_data",
          "data": {
            "text/plain": [
              "[1] \"cidade\"      \"temperatura\""
            ],
            "text/latex": "\\begin{enumerate*}\n\\item 'cidade'\n\\item 'temperatura'\n\\end{enumerate*}\n",
            "text/markdown": "1. 'cidade'\n2. 'temperatura'\n\n\n",
            "text/html": [
              "<style>\n",
              ".list-inline {list-style: none; margin:0; padding: 0}\n",
              ".list-inline>li {display: inline-block}\n",
              ".list-inline>li:not(:last-child)::after {content: \"\\00b7\"; padding: 0 .5ex}\n",
              "</style>\n",
              "<ol class=list-inline><li>'cidade'</li><li>'temperatura'</li></ol>\n"
            ]
          },
          "metadata": {
            "tags": []
          }
        }
      ]
    },
    {
      "cell_type": "code",
      "metadata": {
        "id": "bUPWBUj2YVDv",
        "colab": {
          "base_uri": "https://localhost:8080/",
          "height": 34
        },
        "outputId": "3e5e6800-28fb-4e5a-a490-7e3d1e20dd32"
      },
      "source": [
        "# Verificar o numero de Linhas e de Colunas:\n",
        "dim(df)\n",
        "# O resultado mostra que o data.frama possui 4 linhas e 2 colunas (4x2)"
      ],
      "execution_count": null,
      "outputs": [
        {
          "output_type": "display_data",
          "data": {
            "text/plain": [
              "[1] 4 2"
            ],
            "text/latex": "\\begin{enumerate*}\n\\item 4\n\\item 2\n\\end{enumerate*}\n",
            "text/markdown": "1. 4\n2. 2\n\n\n",
            "text/html": [
              "<style>\n",
              ".list-inline {list-style: none; margin:0; padding: 0}\n",
              ".list-inline>li {display: inline-block}\n",
              ".list-inline>li:not(:last-child)::after {content: \"\\00b7\"; padding: 0 .5ex}\n",
              "</style>\n",
              "<ol class=list-inline><li>4</li><li>2</li></ol>\n"
            ]
          },
          "metadata": {
            "tags": []
          }
        }
      ]
    },
    {
      "cell_type": "code",
      "metadata": {
        "id": "DQNNbiTqYjo-",
        "colab": {
          "base_uri": "https://localhost:8080/"
        },
        "outputId": "df17fa39-2df4-4481-ed34-87b7c2b33b6e"
      },
      "source": [
        "#Ver os TIPOS dos dados das colunas:\n",
        "str(df)\n",
        "# A saida mostra que ac COluna Cidade é do tipo: \"chr\" e temperatura é do tipo \"num\""
      ],
      "execution_count": null,
      "outputs": [
        {
          "output_type": "stream",
          "text": [
            "'data.frame':\t4 obs. of  2 variables:\n",
            " $ cidade     : chr  \"Brasília\" \"São Paulo\" \"Rio de Janeiro\" \"Porto Alegre\"\n",
            " $ temperatura: num  32 22 35 17\n"
          ],
          "name": "stdout"
        }
      ]
    },
    {
      "cell_type": "code",
      "metadata": {
        "id": "I_utOJ8NY-3D",
        "colab": {
          "base_uri": "https://localhost:8080/",
          "height": 34
        },
        "outputId": "985f2e0c-0ac9-4770-b4f9-9383b6a2cff5"
      },
      "source": [
        "# Para buscar os daods de uma coluna, existem duas formas básicas:\n",
        "# Comandos: \"data.frame$NomeColuna\" ou \" data.frame['NomeColuna']\"\n",
        "df$cidade\n",
        "#A saida da consulta é apenas os dados na COLUNA\n"
      ],
      "execution_count": null,
      "outputs": [
        {
          "output_type": "display_data",
          "data": {
            "text/plain": [
              "[1] \"Brasília\"       \"São Paulo\"      \"Rio de Janeiro\" \"Porto Alegre\"  "
            ],
            "text/latex": "\\begin{enumerate*}\n\\item 'Brasília'\n\\item 'São Paulo'\n\\item 'Rio de Janeiro'\n\\item 'Porto Alegre'\n\\end{enumerate*}\n",
            "text/markdown": "1. 'Brasília'\n2. 'São Paulo'\n3. 'Rio de Janeiro'\n4. 'Porto Alegre'\n\n\n",
            "text/html": [
              "<style>\n",
              ".list-inline {list-style: none; margin:0; padding: 0}\n",
              ".list-inline>li {display: inline-block}\n",
              ".list-inline>li:not(:last-child)::after {content: \"\\00b7\"; padding: 0 .5ex}\n",
              "</style>\n",
              "<ol class=list-inline><li>'Brasília'</li><li>'São Paulo'</li><li>'Rio de Janeiro'</li><li>'Porto Alegre'</li></ol>\n"
            ]
          },
          "metadata": {
            "tags": []
          }
        }
      ]
    },
    {
      "cell_type": "code",
      "metadata": {
        "id": "O5xMOjSxZ1kj",
        "colab": {
          "base_uri": "https://localhost:8080/",
          "height": 172
        },
        "outputId": "6fb1cddd-ffeb-47c4-b4de-2f35f5132e20"
      },
      "source": [
        "df['cidade']\n",
        "# Aqui além dos dados da coluna vemos também outras informações do data.frama como:\n",
        "# dimensão, nome do dataframe e tipo da coluna."
      ],
      "execution_count": null,
      "outputs": [
        {
          "output_type": "display_data",
          "data": {
            "text/plain": [
              "  cidade        \n",
              "1 Brasília      \n",
              "2 São Paulo     \n",
              "3 Rio de Janeiro\n",
              "4 Porto Alegre  "
            ],
            "text/latex": "A data.frame: 4 × 1\n\\begin{tabular}{l}\n cidade\\\\\n <chr>\\\\\n\\hline\n\t Brasília      \\\\\n\t São Paulo     \\\\\n\t Rio de Janeiro\\\\\n\t Porto Alegre  \\\\\n\\end{tabular}\n",
            "text/markdown": "\nA data.frame: 4 × 1\n\n| cidade &lt;chr&gt; |\n|---|\n| Brasília       |\n| São Paulo      |\n| Rio de Janeiro |\n| Porto Alegre   |\n\n",
            "text/html": [
              "<table>\n",
              "<caption>A data.frame: 4 × 1</caption>\n",
              "<thead>\n",
              "\t<tr><th scope=col>cidade</th></tr>\n",
              "\t<tr><th scope=col>&lt;chr&gt;</th></tr>\n",
              "</thead>\n",
              "<tbody>\n",
              "\t<tr><td>Brasília      </td></tr>\n",
              "\t<tr><td>São Paulo     </td></tr>\n",
              "\t<tr><td>Rio de Janeiro</td></tr>\n",
              "\t<tr><td>Porto Alegre  </td></tr>\n",
              "</tbody>\n",
              "</table>\n"
            ]
          },
          "metadata": {
            "tags": []
          }
        }
      ]
    },
    {
      "cell_type": "markdown",
      "metadata": {
        "id": "OnTrbxd-axqg"
      },
      "source": [
        "## 2.5.5 - Matrizes\n",
        "\n",
        "**Vamos aprender a criar matrizes**\n",
        "\n",
        "As matrizes também organizam elementos com em uma planilha ou base de dados. A diferença entre o DataFrame é que a matrix só aceita um tipo de dados."
      ]
    },
    {
      "cell_type": "code",
      "metadata": {
        "id": "eXZotmLXahBO",
        "colab": {
          "base_uri": "https://localhost:8080/",
          "height": 179
        },
        "outputId": "c317b620-3f68-4e2d-8bf4-8bcfabb7149d"
      },
      "source": [
        "#Criando Matrizes: Comando: \"matrix()\"\n",
        "matrize <- matrix(seq(1:9), nrow = 3)\n",
        "matrize\n",
        "# A saida mostra: Uma Matrix, 3x3, com tipo \"int\"\n",
        "# Os dados da Matriz são a sequência de 1 ao 9 \"seq(1:9)\", distribuido em 3 linhas(nrow=3)"
      ],
      "execution_count": null,
      "outputs": [
        {
          "output_type": "display_data",
          "data": {
            "text/plain": [
              "     [,1] [,2] [,3]\n",
              "[1,] 1    4    7   \n",
              "[2,] 2    5    8   \n",
              "[3,] 3    6    9   "
            ],
            "text/latex": "A matrix: 3 × 3 of type int\n\\begin{tabular}{lll}\n\t 1 & 4 & 7\\\\\n\t 2 & 5 & 8\\\\\n\t 3 & 6 & 9\\\\\n\\end{tabular}\n",
            "text/markdown": "\nA matrix: 3 × 3 of type int\n\n| 1 | 4 | 7 |\n| 2 | 5 | 8 |\n| 3 | 6 | 9 |\n\n",
            "text/html": [
              "<table>\n",
              "<caption>A matrix: 3 × 3 of type int</caption>\n",
              "<tbody>\n",
              "\t<tr><td>1</td><td>4</td><td>7</td></tr>\n",
              "\t<tr><td>2</td><td>5</td><td>8</td></tr>\n",
              "\t<tr><td>3</td><td>6</td><td>9</td></tr>\n",
              "</tbody>\n",
              "</table>\n"
            ]
          },
          "metadata": {
            "tags": []
          }
        }
      ]
    },
    {
      "cell_type": "code",
      "metadata": {
        "id": "Vwzlplmlb9Ew",
        "colab": {
          "base_uri": "https://localhost:8080/",
          "height": 172
        },
        "outputId": "b4df2a56-813f-49fb-e2cb-765d516eb9a5"
      },
      "source": [
        "# vamos criar outra Matriz e especificar a quantidade de colunas EM 5 e dar nome as colunas\n",
        "# o parâmetro \"byrow = TRUE\" inidca que a matriz deverá ser preenchida por linhas\n",
        "# e o dimnames determina o nome das colunas\n",
        " matrize2 <- matrix(seq(1:25),\n",
        "                    ncol = 5,\n",
        "                    byrow = TRUE,\n",
        "                    dimnames = list(c(seq(1:5)),\n",
        "                                    c('A','B','C','D','E')\n",
        "                                    )\n",
        "                    )\n",
        "matrize2"
      ],
      "execution_count": null,
      "outputs": [
        {
          "output_type": "display_data",
          "data": {
            "text/plain": [
              "  A  B  C  D  E \n",
              "1  1  2  3  4  5\n",
              "2  6  7  8  9 10\n",
              "3 11 12 13 14 15\n",
              "4 16 17 18 19 20\n",
              "5 21 22 23 24 25"
            ],
            "text/latex": "A matrix: 5 × 5 of type int\n\\begin{tabular}{r|lllll}\n  & A & B & C & D & E\\\\\n\\hline\n\t1 &  1 &  2 &  3 &  4 &  5\\\\\n\t2 &  6 &  7 &  8 &  9 & 10\\\\\n\t3 & 11 & 12 & 13 & 14 & 15\\\\\n\t4 & 16 & 17 & 18 & 19 & 20\\\\\n\t5 & 21 & 22 & 23 & 24 & 25\\\\\n\\end{tabular}\n",
            "text/markdown": "\nA matrix: 5 × 5 of type int\n\n| <!--/--> | A | B | C | D | E |\n|---|---|---|---|---|---|\n| 1 |  1 |  2 |  3 |  4 |  5 |\n| 2 |  6 |  7 |  8 |  9 | 10 |\n| 3 | 11 | 12 | 13 | 14 | 15 |\n| 4 | 16 | 17 | 18 | 19 | 20 |\n| 5 | 21 | 22 | 23 | 24 | 25 |\n\n",
            "text/html": [
              "<table>\n",
              "<caption>A matrix: 5 × 5 of type int</caption>\n",
              "<thead>\n",
              "\t<tr><th></th><th scope=col>A</th><th scope=col>B</th><th scope=col>C</th><th scope=col>D</th><th scope=col>E</th></tr>\n",
              "</thead>\n",
              "<tbody>\n",
              "\t<tr><th scope=row>1</th><td> 1</td><td> 2</td><td> 3</td><td> 4</td><td> 5</td></tr>\n",
              "\t<tr><th scope=row>2</th><td> 6</td><td> 7</td><td> 8</td><td> 9</td><td>10</td></tr>\n",
              "\t<tr><th scope=row>3</th><td>11</td><td>12</td><td>13</td><td>14</td><td>15</td></tr>\n",
              "\t<tr><th scope=row>4</th><td>16</td><td>17</td><td>18</td><td>19</td><td>20</td></tr>\n",
              "\t<tr><th scope=row>5</th><td>21</td><td>22</td><td>23</td><td>24</td><td>25</td></tr>\n",
              "</tbody>\n",
              "</table>\n"
            ]
          },
          "metadata": {
            "tags": []
          }
        }
      ]
    },
    {
      "cell_type": "markdown",
      "metadata": {
        "id": "dAXGIeVMd0Yl"
      },
      "source": [
        "### Filtrar os Dados da matrix\n",
        "Para filtrar os dados devemos informar a liha e as colunas entre colchetes"
      ]
    },
    {
      "cell_type": "code",
      "metadata": {
        "id": "kwZqRjRldIDA",
        "colab": {
          "base_uri": "https://localhost:8080/",
          "height": 162
        },
        "outputId": "9d953af3-278e-4e33-cc6f-e738a10c3dd1"
      },
      "source": [
        "#filtrando a matriz\n",
        "matrize2[c(1:2), c('B', 'C')]\n",
        "# O resultado traz os dados da coluna B e C nas linhas 1 e 2"
      ],
      "execution_count": null,
      "outputs": [
        {
          "output_type": "display_data",
          "data": {
            "text/plain": [
              "  B C\n",
              "1 2 3\n",
              "2 7 8"
            ],
            "text/latex": "A matrix: 2 × 2 of type int\n\\begin{tabular}{r|ll}\n  & B & C\\\\\n\\hline\n\t1 & 2 & 3\\\\\n\t2 & 7 & 8\\\\\n\\end{tabular}\n",
            "text/markdown": "\nA matrix: 2 × 2 of type int\n\n| <!--/--> | B | C |\n|---|---|---|\n| 1 | 2 | 3 |\n| 2 | 7 | 8 |\n\n",
            "text/html": [
              "<table>\n",
              "<caption>A matrix: 2 × 2 of type int</caption>\n",
              "<thead>\n",
              "\t<tr><th></th><th scope=col>B</th><th scope=col>C</th></tr>\n",
              "</thead>\n",
              "<tbody>\n",
              "\t<tr><th scope=row>1</th><td>2</td><td>3</td></tr>\n",
              "\t<tr><th scope=row>2</th><td>7</td><td>8</td></tr>\n",
              "</tbody>\n",
              "</table>\n"
            ]
          },
          "metadata": {
            "tags": []
          }
        }
      ]
    },
    {
      "cell_type": "markdown",
      "metadata": {
        "id": "_vMdxI4Seh52"
      },
      "source": [
        "Essa são as funcionalidades básicas na linguagem R para armazenar estrututuras de dados desse estudo:\n",
        "* Matrizes\n",
        "* Data Frames\n",
        "* Listas\n",
        "* Fatores\n",
        "* Vetores"
      ]
    },
    {
      "cell_type": "markdown",
      "metadata": {
        "id": "J-0alAtxhCX3"
      },
      "source": [
        "# 2.6 - Estruturas de Repetição em R - \"for()\" e \"while()\"\n",
        "\n",
        "Nesse tópico, vamos aprender como utilizar as estruturas de repetição na linguagem R, pegando duas como exemplo: For e While. \n",
        "\n",
        "A função “for()” é utilizada para acessar cada elemento de uma sequência (vetor, coluna de matriz ou data frame matriz), enquanto a função “while()” é utilizada para repetir uma operação por um determinado número de vezes. "
      ]
    },
    {
      "cell_type": "code",
      "metadata": {
        "id": "1yOuL9KWe-Lz",
        "colab": {
          "base_uri": "https://localhost:8080/"
        },
        "outputId": "b93b42a9-25fc-48e7-f350-36be1faeeb9a"
      },
      "source": [
        "# A função \"for()\" é utilizada para acessar cada elemento de uma estrutura de dados: vetor, matrizes ou data frame\n",
        "\n",
        "#Loops\n",
        "#For\n",
        "#Comando: for(valorinsequencia) {\n",
        "#  código...\n",
        "#}\n",
        "# Exemplo for\n",
        "for (i in seq(12)) {\n",
        "  print (i)\n",
        "}\n",
        "# No exemplo criamos uma sequencia de 12 elementos coma  função \"seq()\"\n",
        "# A Saída temos uma operação para cada iteração da função \"for()\" no caso 12 iterações"
      ],
      "execution_count": null,
      "outputs": [
        {
          "output_type": "stream",
          "text": [
            "[1] 1\n",
            "[1] 2\n",
            "[1] 3\n",
            "[1] 4\n",
            "[1] 5\n",
            "[1] 6\n",
            "[1] 7\n",
            "[1] 8\n",
            "[1] 9\n",
            "[1] 10\n",
            "[1] 11\n",
            "[1] 12\n"
          ],
          "name": "stdout"
        }
      ]
    },
    {
      "cell_type": "code",
      "metadata": {
        "id": "lB8dHmmqjFj4",
        "colab": {
          "base_uri": "https://localhost:8080/"
        },
        "outputId": "1f10f94a-773c-4f94-c3ad-84ebc1ba4e00"
      },
      "source": [
        "# A função \"while()\" é utilizada para repetir uma operação por uma determinada quantidade de vezes\n",
        "# Deve-se inserir um parametro como condição . E enquanto a condição for verdadeira vai haver repetição.\n",
        "i <- 0\n",
        "while (i <= 10) {\n",
        "  # código\n",
        "  print(i)\n",
        "  i = i +1\n",
        "}\n",
        "# observe que a variavel \"i\"(contadora) é criada fora da estrutura. Depois a \"contadora\" é incrementada dentro da estrutura"
      ],
      "execution_count": null,
      "outputs": [
        {
          "output_type": "stream",
          "text": [
            "[1] 0\n",
            "[1] 1\n",
            "[1] 2\n",
            "[1] 3\n",
            "[1] 4\n",
            "[1] 5\n",
            "[1] 6\n",
            "[1] 7\n",
            "[1] 8\n",
            "[1] 9\n",
            "[1] 10\n"
          ],
          "name": "stdout"
        }
      ]
    },
    {
      "cell_type": "markdown",
      "metadata": {
        "id": "nwjYcBF2eAwU"
      },
      "source": [
        "# 2.7 - Controle de fluxos - função \"if()\" e \"else()\"\n",
        "\n",
        "O programa linguagem R possui uma função que permite testar condições e controlar o fluxo do script. \n",
        "\n",
        "Essa função permite executar parte de um código somente se alguma condição for atendida, a fim de testar as condições e controlar o **fluxo do script.**\n"
      ]
    },
    {
      "cell_type": "code",
      "metadata": {
        "colab": {
          "base_uri": "https://localhost:8080/"
        },
        "id": "Q8dOlESgej4k",
        "outputId": "a068e7c2-c0ef-4b75-c8b1-fb495dd79907"
      },
      "source": [
        "# Declaramos a vairavel x = 10 e colocamos um condição que se o valor de X maior que 0 ele vai dar o print\n",
        "x = 10\n",
        "if (x>0) {\n",
        "  print(\"Numero positivo\")\n",
        "}\n",
        "\n",
        "# como valor digitado é maior que 10 a saida foi o print. Teste com um valor negativo (não ter nenhuma saída)\n"
      ],
      "execution_count": null,
      "outputs": [
        {
          "output_type": "stream",
          "text": [
            "[1] \"Numero positivo\"\n"
          ],
          "name": "stdout"
        }
      ]
    },
    {
      "cell_type": "code",
      "metadata": {
        "colab": {
          "base_uri": "https://localhost:8080/"
        },
        "id": "MraQysEofhs6",
        "outputId": "61d6c88a-6627-4433-eec5-3f7da1e01772"
      },
      "source": [
        "# Já a função \"if()\"\" associada a função \"else if()\" é usada para testar diversas condições\n",
        "\n",
        "nota = 5\n",
        "if (nota >= 7) {\n",
        "  print(\"Aprovado\")\n",
        "} else if (nota > 5 && nota < 7) {\n",
        "  print(\"Recuperação\")\n",
        "} else {\n",
        "  print(\"Reprovado\")\n",
        "  }\n",
        "\n",
        "  # Faça teste alterando o valor da nota pra ver os resultados diversos."
      ],
      "execution_count": null,
      "outputs": [
        {
          "output_type": "stream",
          "text": [
            "[1] \"Reprovado\"\n"
          ],
          "name": "stdout"
        }
      ]
    },
    {
      "cell_type": "markdown",
      "metadata": {
        "id": "XIo9qhIah0LP"
      },
      "source": [
        "# 2.8 - Criando Funções\n",
        "\n",
        "O R já vem com várias funções instaladas e, com elas, você pode executar muitas tarefas, conforme mostramos até agora. \n",
        "\n",
        "Podemos também criar nossas funções. Com as funções facilitamos o trabalho e diminui o tempo de execução de suas análises. "
      ]
    },
    {
      "cell_type": "code",
      "metadata": {
        "id": "nvseCyLjiSBa"
      },
      "source": [
        "# Para criar funções utilizamos a palavra \"function\" e colocamos os parâmetros\n",
        "# criando uma função (par.impar) que vai dizer seo o número (num) é impar ou par\n",
        "par.impar <- function(num) {\n",
        "  if ((num %% 2)==0) {\n",
        "    return (\"Par\")\n",
        "    }else\n",
        "    return(\"Impar\")\n",
        "  }\n",
        "  # A função vai verificar se o número informado possui módulo(resto da divisão) igual a zero. Se for Igual a Zero o número é par, caso contrário ele é impar"
      ],
      "execution_count": 1,
      "outputs": []
    },
    {
      "cell_type": "code",
      "metadata": {
        "colab": {
          "base_uri": "https://localhost:8080/",
          "height": 34
        },
        "id": "asQK9BdqT-Rp",
        "outputId": "08f822db-086d-47f6-a20f-9160a3ea3b1e"
      },
      "source": [
        "# Usando a função criada:\n",
        "\n",
        "num = 3\n",
        "par.impar(num)\n",
        "# utilizando apenas a função criada temos o nosso resultado"
      ],
      "execution_count": 2,
      "outputs": [
        {
          "output_type": "display_data",
          "data": {
            "text/plain": [
              "[1] \"Impar\""
            ],
            "text/latex": "'Impar'",
            "text/markdown": "'Impar'",
            "text/html": [
              "'Impar'"
            ]
          },
          "metadata": {
            "tags": []
          }
        }
      ]
    },
    {
      "cell_type": "markdown",
      "metadata": {
        "id": "hEVwnwEEVVuH"
      },
      "source": [
        "A criação de funções no R, vai facilitar as análises e criação de scripts"
      ]
    },
    {
      "cell_type": "markdown",
      "metadata": {
        "id": "8iBLifKDVji7"
      },
      "source": [
        "# 2.9 Utilizando Funções apply\n",
        "\n",
        "A função “apply”, na verdade, é um conjunto de funções, ou seja, ela possui algumas variações, tais como: “lapply”, “tapply”, “sapply” e outras. \n",
        "Veremos algumas:"
      ]
    },
    {
      "cell_type": "code",
      "metadata": {
        "id": "jiMMZtmgUs9e"
      },
      "source": [
        ""
      ],
      "execution_count": null,
      "outputs": []
    }
  ]
}